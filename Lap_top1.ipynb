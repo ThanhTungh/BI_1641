{
 "cells": [
  {
   "cell_type": "code",
   "execution_count": 1,
   "metadata": {},
   "outputs": [],
   "source": [
    "import csv\n",
    "\n",
    "def take_column_data():\n",
    "    f = open('Laptop_dataset2.csv', 'r')\n",
    "    reader = csv.reader(f)\n",
    "    discount = []\n",
    "    star_rating = []\n",
    "    rating = []\n",
    "    review = []\n",
    "    for row in reader:\n",
    "        if row[-4] != 'discount':\n",
    "            discount.append(row[-4])\n",
    "        if row[-3] != 'star_rating':\n",
    "            star_rating.append(row[-3])\n",
    "        if row[-2] != 'ratings':\n",
    "            rating.append(row[-2])\n",
    "        if row[-1] != 'reviews':\n",
    "            review.append(row[-1])\n",
    "\n",
    "    for _ in range(1304-896):\n",
    "        discount.append(0)\n",
    "        star_rating.append(0)\n",
    "        rating.append(0)\n",
    "        review.append(0)\n",
    "    \n",
    "    f.close()\n",
    "    return discount, star_rating, rating, review"
   ]
  },
  {
   "cell_type": "code",
   "execution_count": 5,
   "metadata": {},
   "outputs": [
    {
     "name": "stdout",
     "output_type": "stream",
     "text": [
      "1304\n",
      "1304\n",
      "1304\n",
      "1304\n"
     ]
    }
   ],
   "source": [
    "# discount, star_rating, rating, review = take_column_data()\n",
    "# print(len(discount))\n",
    "# print(len(star_rating))\n",
    "# print(len(rating))\n",
    "# print(len(review))"
   ]
  },
  {
   "cell_type": "code",
   "execution_count": 118,
   "metadata": {},
   "outputs": [
    {
     "name": "stdout",
     "output_type": "stream",
     "text": [
      "1304\n",
      "897\n"
     ]
    }
   ],
   "source": [
    "# f = open('laptop_price.csv', 'r')\n",
    "# f2 = open('Laptop_dataset2.csv', 'r')\n",
    "# reader = csv.reader(f)\n",
    "# reader2 = csv.reader(f2)\n",
    "\n",
    "# print(len([row for row in reader]))\n",
    "# print(len([row for row in reader2]))\n",
    "\n",
    "# f.close()\n",
    "# f2.close()"
   ]
  },
  {
   "cell_type": "code",
   "execution_count": 2,
   "metadata": {},
   "outputs": [
    {
     "name": "stdout",
     "output_type": "stream",
     "text": [
      "Done!\n"
     ]
    }
   ],
   "source": [
    "import csv\n",
    "f = open('laptop_price.csv', 'r')\n",
    "reader = csv.reader(f)\n",
    "\n",
    "header = next(reader)\n",
    "#Spit CPU column\n",
    "header[6] = 'Name CPU'\n",
    "header.insert(7,'CPU Speed') # Insert new column\n",
    "#Spit Memory column:\n",
    "header[9] = 'Name Memory'\n",
    "header.insert(10,'Memory Capacity') # Insert new column\n",
    "# Remove id header\n",
    "del header[0]\n",
    "# Change name of last column\n",
    "header[-1] = 'Price_dollars'\n",
    "# Connect column\n",
    "header.append('Discount')\n",
    "header.append('Star_rating')\n",
    "header.append('Rating')\n",
    "header.append('Review')\n",
    "discount, star_rating, rating, review = take_column_data()\n",
    "\n",
    "fw = open('clean_laptop_price.csv', 'w', encoding='utf-8')\n",
    "writer = csv.writer(fw)\n",
    "writer.writerow(header)\n",
    "\n",
    "i = 0\n",
    "for row in reader: \n",
    "    # Resolution, only take the number part eg: 1440x900\n",
    "    s = row[5].split('x')\n",
    "    row[5] = s[-2].split()[-1] + 'x' + s[-1]\n",
    "\n",
    "    # Ram, drop units\n",
    "    row[7] = row[7].split('G')[0]\n",
    "\n",
    "    # Weight column to remove units: remove kg, change units to kg\n",
    "    row[-2] = row[-2].split('k')[0]\n",
    "\n",
    "    # Price column: convert to dollars\n",
    "    row[-1] = float(row[-1])*1.06730\n",
    "\n",
    "    # Split CPU column, into Name CPU and Speed\n",
    "    old_row = row[6]\n",
    "    row[6] = ' '.join(old_row.split('GHz')[0].split()[:-1])\n",
    "    row.insert(7, row[7])\n",
    "    row[7] = old_row.split('GHz')[-2].split()[-1] + 'GHz'\n",
    "    \n",
    "    # Memory column: split into 2 and rename Flas... -> SSd, Only write TB -> GB\n",
    "    old_row9 = row[9]\n",
    "    new_row1 = old_row9.split('B')[-1].strip()\n",
    "    if new_row1 == 'Flash Storage':\n",
    "        row[9] = 'SSD'\n",
    "    else:\n",
    "        row[9] = new_row1\n",
    "    row.insert(10, row[10])\n",
    "    new_row2 = old_row9.split('B')[0] + 'B'\n",
    "    if 'T' in new_row2:\n",
    "        row[10] = str(int(float(new_row2.split('T')[0]) * 1024)) + 'GB'\n",
    "    else:\n",
    "        row[10] = new_row2\n",
    "        \n",
    "    # Remove id column\n",
    "    del row[0]\n",
    "    \n",
    "    #Connect column\n",
    "    old_r = row[-1]\n",
    "    row.append(discount[i])\n",
    "    row.append(star_rating[i])\n",
    "    row.append(rating[i])\n",
    "    row.append(review[i])\n",
    "    row[-5]= old_r\n",
    "    i += 1\n",
    "    writer.writerow(row)\n",
    "\n",
    "print('Done!')\n",
    "f.close()\n",
    "fw.close()"
   ]
  },
  {
   "cell_type": "code",
   "execution_count": 3,
   "metadata": {},
   "outputs": [
    {
     "name": "stdout",
     "output_type": "stream",
     "text": [
      "Done!\n"
     ]
    }
   ],
   "source": [
    "f = open('Laptop_dataset2.csv', 'r')\n",
    "reader = csv.reader(f)\n",
    "\n",
    "header = next(reader)\n",
    "\n",
    "fw = open('clean_laptop_dataset2.csv', 'w', encoding='utf-8')\n",
    "writer = csv.writer(fw)\n",
    "writer.writerow(header)\n",
    "\n",
    "for row in reader:\n",
    "    #Touchscreen and msoffice columns changed to be clearer: with/without Touchscreen, with/without pre-installed office support\n",
    "    row[-8] = 'Touchscreen supported' if row[-8] == 'Yes' else 'Touchscreen is not supported'\n",
    "    row[-7] = 'Office is not pre-installed' if row[-7] == 'Yes' else 'Support pre-installed office'\n",
    "\n",
    "    writer.writerow(row)\n",
    "\n",
    "print('Done!')\n",
    "f.close()\n",
    "fw.close()\n"
   ]
  }
 ],
 "metadata": {
  "kernelspec": {
   "display_name": "Python 3",
   "language": "python",
   "name": "python3"
  },
  "language_info": {
   "codemirror_mode": {
    "name": "ipython",
    "version": 3
   },
   "file_extension": ".py",
   "mimetype": "text/x-python",
   "name": "python",
   "nbconvert_exporter": "python",
   "pygments_lexer": "ipython3",
   "version": "3.10.11"
  },
  "orig_nbformat": 4,
  "vscode": {
   "interpreter": {
    "hash": "58dbfdb34cf82127b32c5737e6183911655ff227e5c11e8f5e4b25048ae98ef2"
   }
  }
 },
 "nbformat": 4,
 "nbformat_minor": 2
}
